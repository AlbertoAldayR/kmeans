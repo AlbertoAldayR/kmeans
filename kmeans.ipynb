{
 "cells": [
  {
   "cell_type": "markdown",
   "metadata": {},
   "source": [
    "# Algoritmo kmeans para clasificación"
   ]
  },
  {
   "cell_type": "code",
   "execution_count": null,
   "metadata": {},
   "outputs": [],
   "source": [
    "import numpy as np\n",
    "import cv2 as cv\n",
    "import pandas as pd\n",
    "from matplotlib import pyplot as plt\n",
    "from matplotlib.axes._axes import _log as matplotlib_axes_logger\n",
    "matplotlib_axes_logger.setLevel('ERROR')\n",
    "import warnings\n",
    "warnings.filterwarnings('ignore')\n",
    "from IPython.display import clear_output\n",
    "np.random.seed(100)\n",
    "axis_n=3\n",
    "img=cv2.imread(r\"2.png\")\n",
    "X = img.reshape((-1,3))\n",
    "X=np.array(X/1,dtype=\"uint8\")*1\n",
    "# X.shape\n",
    "# X = np.random.randint(-1000,1000,(10000,axis_n))\n",
    "Z = np.float32(X)\n",
    "axis_n1=range(axis_n)#[chr(x) for x in ]\n",
    "k=2\n",
    "p_3d=True\n",
    "if axis_n<3:\n",
    "    p_3d=False\n",
    "centros=[]\n",
    "kmeans=pd.DataFrame(Z,columns=axis_n1)\n",
    "np.random.seed(10)\n",
    "centros=np.random.randint(0,255,(k,axis_n))\n",
    "color=np.random.rand(k,3)\n",
    "kmeans=pd.DataFrame(Z,columns=axis_n1)\n",
    "kmeans[\"menor\"]=1e5\n",
    "kmeans[\"grupo\"]=0\n",
    "for iteracion in range(40):\n",
    "    kmeans[\"menor\"]=1e5\n",
    "    for i,pt in enumerate(centros):\n",
    "        kmeans[\"d\"+str(i)]=list(np.sqrt(np.sum((centros[i]-Z)**2,axis=1)))\n",
    "        kmeans.loc[kmeans[\"d\"+str(i)]<=kmeans[\"menor\"],\"grupo\"]=i\n",
    "        kmeans.loc[kmeans[\"d\"+str(i)]<=kmeans[\"menor\"],\"menor\"]=kmeans[\"d\"+str(i)][kmeans[\"d\"+str(i)]<=kmeans[\"menor\"]]\n",
    "    if p_3d:\n",
    "        fig = plt.figure()\n",
    "        ax = fig.add_subplot(projection='3d')\n",
    "    for i,pt in enumerate(centros):\n",
    "        if p_3d:\n",
    "            ax.scatter(kmeans[kmeans[\"grupo\"]==i][axis_n1[0]],kmeans[kmeans[\"grupo\"]==i][axis_n1[1]],kmeans[kmeans[\"grupo\"]==i][axis_n1[2]],c=color[i])\n",
    "        else:\n",
    "            plt.scatter(kmeans[kmeans[\"grupo\"]==i][axis_n1[0]],kmeans[kmeans[\"grupo\"]==i][axis_n1[1]],c=color[i])\n",
    "    centros=[]\n",
    "    for cp in range(k):\n",
    "        centros.append(np.array((kmeans[kmeans[\"grupo\"]==cp])[axis_n1].mean()))\n",
    "\n",
    "\n",
    "    for pt in centros:\n",
    "        if p_3d:\n",
    "            ax.scatter(pt[0],pt[1],pt[2],c = 'r')\n",
    "        else:\n",
    "            plt.scatter(pt[0],pt[1],c = 'r',marker=\"x\")\n",
    "\n",
    "    plt.show()\n",
    "    print(iteracion)\n",
    "    \n",
    "    clear_output(wait=True)"
   ]
  }
 ],
 "metadata": {
  "language_info": {
   "name": "python"
  },
  "orig_nbformat": 4
 },
 "nbformat": 4,
 "nbformat_minor": 2
}
